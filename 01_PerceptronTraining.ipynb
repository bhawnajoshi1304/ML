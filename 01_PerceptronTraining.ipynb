{
  "nbformat": 4,
  "nbformat_minor": 0,
  "metadata": {
    "colab": {
      "name": "01_PerceptronTraining.ipynb",
      "provenance": [],
      "collapsed_sections": [],
      "mount_file_id": "1RZk7mpbQwSONogMXk-p_z4KeAZY_B0VD",
      "authorship_tag": "ABX9TyOX4sRJvWWnswmJCsL0xEp+",
      "include_colab_link": true
    },
    "kernelspec": {
      "name": "python3",
      "display_name": "Python 3"
    },
    "language_info": {
      "name": "python"
    }
  },
  "cells": [
    {
      "cell_type": "markdown",
      "metadata": {
        "id": "view-in-github",
        "colab_type": "text"
      },
      "source": [
        "<a href=\"https://colab.research.google.com/github/bhawnajoshi1304/ML/blob/main/01_PerceptronTraining.ipynb\" target=\"_parent\"><img src=\"https://colab.research.google.com/assets/colab-badge.svg\" alt=\"Open In Colab\"/></a>"
      ]
    },
    {
      "cell_type": "markdown",
      "metadata": {
        "id": "Z_99S9_rcefR"
      },
      "source": [
        "**Data Created**:22 May 2021\n",
        "\n",
        "**Author**: Bhawna"
      ]
    },
    {
      "cell_type": "markdown",
      "metadata": {
        "id": "CEDC7i-nc0HY"
      },
      "source": [
        "# Problem Statement\n",
        "Train your model to learn the table of 10\n",
        "```\n",
        "y=10*x\n",
        "```\n"
      ]
    },
    {
      "cell_type": "markdown",
      "metadata": {
        "id": "chLeAbdxdy5F"
      },
      "source": [
        "## Data Creation\n",
        "Equation `y=10*x`\n",
        "```\n",
        "x=[0,1,2,3,4,5....]\n",
        "y=[0,10,20,30,40,50,...]\n",
        "```"
      ]
    },
    {
      "cell_type": "code",
      "metadata": {
        "colab": {
          "base_uri": "https://localhost:8080/"
        },
        "id": "czs9bk0weOq8",
        "outputId": "d7aff292-d4e7-47d7-bacf-c5b543f6eea5"
      },
      "source": [
        "x=[i for i in range(21)]#list comprehension\n",
        "print(x)"
      ],
      "execution_count": 11,
      "outputs": [
        {
          "output_type": "stream",
          "text": [
            "[0, 1, 2, 3, 4, 5, 6, 7, 8, 9, 10, 11, 12, 13, 14, 15, 16, 17, 18, 19, 20]\n"
          ],
          "name": "stdout"
        }
      ]
    },
    {
      "cell_type": "code",
      "metadata": {
        "colab": {
          "base_uri": "https://localhost:8080/"
        },
        "id": "Uyt5DVTdeyoc",
        "outputId": "4882cabb-730b-4090-91d5-8d88f38434dc"
      },
      "source": [
        "y=[10*i for i in range(21)]\n",
        "print(y)"
      ],
      "execution_count": 12,
      "outputs": [
        {
          "output_type": "stream",
          "text": [
            "[0, 10, 20, 30, 40, 50, 60, 70, 80, 90, 100, 110, 120, 130, 140, 150, 160, 170, 180, 190, 200]\n"
          ],
          "name": "stdout"
        }
      ]
    },
    {
      "cell_type": "markdown",
      "metadata": {
        "id": "EpXl1nzUgWtF"
      },
      "source": [
        "## Approach :\n",
        "Defining a function for the equation: `y=10*x`"
      ]
    },
    {
      "cell_type": "code",
      "metadata": {
        "colab": {
          "base_uri": "https://localhost:8080/"
        },
        "id": "zyU4PF9Zglba",
        "outputId": "d4032fd1-7a57-434b-c94c-9da85a79c541"
      },
      "source": [
        "def tempFunc(x):\n",
        "  y=10*x\n",
        "  return y\n",
        "\n",
        "for value in xTrain:\n",
        "  print(tempFunc(value),end=\" \")"
      ],
      "execution_count": 13,
      "outputs": [
        {
          "output_type": "stream",
          "text": [
            "0 10 20 30 40 50 60 70 80 90 100 110 120 130 140 150 160 170 180 190 200 "
          ],
          "name": "stdout"
        }
      ]
    },
    {
      "cell_type": "markdown",
      "metadata": {
        "id": "tFU2exsvhaXX"
      },
      "source": [
        "## Approach 2\n",
        "ML model\n",
        "We need `xTrain` and `xTest` from x and `yTrain` and `yTest` from y"
      ]
    },
    {
      "cell_type": "code",
      "metadata": {
        "colab": {
          "base_uri": "https://localhost:8080/"
        },
        "id": "sedAu2u7hEma",
        "outputId": "21a5c7a6-752c-400c-d362-e353441f7ac3"
      },
      "source": [
        "print(f'This is x: {x}')\n",
        "print(f'This is y: {y}')"
      ],
      "execution_count": 14,
      "outputs": [
        {
          "output_type": "stream",
          "text": [
            "This is x: [0, 1, 2, 3, 4, 5, 6, 7, 8, 9, 10, 11, 12, 13, 14, 15, 16, 17, 18, 19, 20]\n",
            "This is y: [0, 10, 20, 30, 40, 50, 60, 70, 80, 90, 100, 110, 120, 130, 140, 150, 160, 170, 180, 190, 200]\n"
          ],
          "name": "stdout"
        }
      ]
    },
    {
      "cell_type": "code",
      "metadata": {
        "id": "60weByyfihDr"
      },
      "source": [
        "xTrain = x[:-5] #Training Data\n",
        "yTrain = y[:-5] #Training Labels\n",
        "\n",
        "xTest = x[-5:] #Testing Data\n",
        "yTest = y[-5:] #Testing Labels"
      ],
      "execution_count": 16,
      "outputs": []
    },
    {
      "cell_type": "code",
      "metadata": {
        "colab": {
          "base_uri": "https://localhost:8080/"
        },
        "id": "Lo3msCagj6Le",
        "outputId": "b10898f9-d918-4d54-ee40-28d21d32b90c"
      },
      "source": [
        "print(f'''\n",
        "      Training Data: {xTrain}\n",
        "      Training Labels: {yTrain}\n",
        "\n",
        "      Testing Data: {xTest}\n",
        "      Testing Labels: {yTest}      \n",
        "      ''')"
      ],
      "execution_count": 17,
      "outputs": [
        {
          "output_type": "stream",
          "text": [
            "\n",
            "      Training Data: [0, 1, 2, 3, 4, 5, 6, 7, 8, 9, 10, 11, 12, 13, 14, 15]\n",
            "      Training Labels: [0, 10, 20, 30, 40, 50, 60, 70, 80, 90, 100, 110, 120, 130, 140, 150]\n",
            "\n",
            "      Testing Data: [16, 17, 18, 19, 20]\n",
            "      Testing Labels: [160, 170, 180, 190, 200]      \n",
            "      \n"
          ],
          "name": "stdout"
        }
      ]
    },
    {
      "cell_type": "code",
      "metadata": {
        "id": "cU47-xHvkrUU"
      },
      "source": [
        "import tensorflow as tf\n",
        "from tensorflow import keras"
      ],
      "execution_count": 19,
      "outputs": []
    },
    {
      "cell_type": "code",
      "metadata": {
        "id": "PM8_bWeWkx1p"
      },
      "source": [
        "#Perceptron model\n",
        "\n",
        "model = tf.keras.Sequential([\n",
        "                             \n",
        "])"
      ],
      "execution_count": null,
      "outputs": []
    }
  ]
}