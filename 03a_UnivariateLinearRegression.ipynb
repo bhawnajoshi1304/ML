{
  "nbformat": 4,
  "nbformat_minor": 0,
  "metadata": {
    "colab": {
      "name": "03a_UnivariateLinearRegression.ipynb",
      "provenance": [],
      "authorship_tag": "ABX9TyPOARkHw38bTHy764E2USBU",
      "include_colab_link": true
    },
    "kernelspec": {
      "name": "python3",
      "display_name": "Python 3"
    },
    "language_info": {
      "name": "python"
    }
  },
  "cells": [
    {
      "cell_type": "markdown",
      "metadata": {
        "id": "view-in-github",
        "colab_type": "text"
      },
      "source": [
        "<a href=\"https://colab.research.google.com/github/bhawnajoshi1304/ML/blob/main/03a_UnivariateLinearRegression.ipynb\" target=\"_parent\"><img src=\"https://colab.research.google.com/assets/colab-badge.svg\" alt=\"Open In Colab\"/></a>"
      ]
    },
    {
      "cell_type": "markdown",
      "metadata": {
        "id": "FyROsrq9eED1"
      },
      "source": [
        "# Univariate Linear Regression"
      ]
    },
    {
      "cell_type": "markdown",
      "metadata": {
        "id": "QnxNKgIaxZ9x"
      },
      "source": [
        "## Setup"
      ]
    },
    {
      "cell_type": "code",
      "metadata": {
        "colab": {
          "base_uri": "https://localhost:8080/"
        },
        "id": "UacNCmcTsPPp",
        "outputId": "15086c19-aece-4d0c-8d71-c58eeb8c54ae"
      },
      "source": [
        "from google.colab import drive\n",
        "drive.mount('/content/drive')"
      ],
      "execution_count": 1,
      "outputs": [
        {
          "output_type": "stream",
          "text": [
            "Drive already mounted at /content/drive; to attempt to forcibly remount, call drive.mount(\"/content/drive\", force_remount=True).\n"
          ],
          "name": "stdout"
        }
      ]
    },
    {
      "cell_type": "code",
      "metadata": {
        "colab": {
          "base_uri": "https://localhost:8080/"
        },
        "id": "hgUDJv85dzh1",
        "outputId": "d8ffc1bc-26d5-4f1d-bdfa-87ada6c40743"
      },
      "source": [
        "cd /content/drive/MyDrive/MLDocs/2StudentPerformance/student"
      ],
      "execution_count": 2,
      "outputs": [
        {
          "output_type": "stream",
          "text": [
            "/content/drive/MyDrive/MLDocs/2StudentPerformance/student\n"
          ],
          "name": "stdout"
        }
      ]
    },
    {
      "cell_type": "code",
      "metadata": {
        "colab": {
          "base_uri": "https://localhost:8080/"
        },
        "id": "POGAGSN0sxEb",
        "outputId": "5e8e6ca3-7fa7-473f-f319-6b8238ade0e0"
      },
      "source": [
        "ls"
      ],
      "execution_count": 3,
      "outputs": [
        {
          "output_type": "stream",
          "text": [
            "cleanedMathData.csv  student-merge.R  student.txt\n",
            "student-mat.csv      student-por.csv  univariate_MathData_2.csv\n"
          ],
          "name": "stdout"
        }
      ]
    },
    {
      "cell_type": "code",
      "metadata": {
        "id": "-Z5Y8CsBsxBZ"
      },
      "source": [
        "import os"
      ],
      "execution_count": 4,
      "outputs": []
    },
    {
      "cell_type": "code",
      "metadata": {
        "id": "5Gb1cvD9s6V4"
      },
      "source": [
        "import pandas as pd #working with csv or excel files\n",
        "import numpy as np #working with numbers/ arrays/ tensors\n",
        "import tensorflow as tf #framework\n",
        "from tensorflow import keras #API / library \n",
        "import os #using os commands between the python language"
      ],
      "execution_count": 5,
      "outputs": []
    },
    {
      "cell_type": "code",
      "metadata": {
        "id": "rohpQbqFs8CR"
      },
      "source": [
        "mathData = pd.read_csv('student-mat.csv', sep=';') #load the csv file as dataframe"
      ],
      "execution_count": 6,
      "outputs": []
    },
    {
      "cell_type": "code",
      "metadata": {
        "colab": {
          "base_uri": "https://localhost:8080/",
          "height": 377
        },
        "id": "a6Ea5R_gtBx6",
        "outputId": "e38e57f4-4f81-41e5-a1fd-8980faf609e6"
      },
      "source": [
        "mathData.head(10) #print the first ten rows of the dataframe"
      ],
      "execution_count": 7,
      "outputs": [
        {
          "output_type": "execute_result",
          "data": {
            "text/html": [
              "<div>\n",
              "<style scoped>\n",
              "    .dataframe tbody tr th:only-of-type {\n",
              "        vertical-align: middle;\n",
              "    }\n",
              "\n",
              "    .dataframe tbody tr th {\n",
              "        vertical-align: top;\n",
              "    }\n",
              "\n",
              "    .dataframe thead th {\n",
              "        text-align: right;\n",
              "    }\n",
              "</style>\n",
              "<table border=\"1\" class=\"dataframe\">\n",
              "  <thead>\n",
              "    <tr style=\"text-align: right;\">\n",
              "      <th></th>\n",
              "      <th>school</th>\n",
              "      <th>sex</th>\n",
              "      <th>age</th>\n",
              "      <th>address</th>\n",
              "      <th>famsize</th>\n",
              "      <th>Pstatus</th>\n",
              "      <th>Medu</th>\n",
              "      <th>Fedu</th>\n",
              "      <th>Mjob</th>\n",
              "      <th>Fjob</th>\n",
              "      <th>reason</th>\n",
              "      <th>guardian</th>\n",
              "      <th>traveltime</th>\n",
              "      <th>studytime</th>\n",
              "      <th>failures</th>\n",
              "      <th>schoolsup</th>\n",
              "      <th>famsup</th>\n",
              "      <th>paid</th>\n",
              "      <th>activities</th>\n",
              "      <th>nursery</th>\n",
              "      <th>higher</th>\n",
              "      <th>internet</th>\n",
              "      <th>romantic</th>\n",
              "      <th>famrel</th>\n",
              "      <th>freetime</th>\n",
              "      <th>goout</th>\n",
              "      <th>Dalc</th>\n",
              "      <th>Walc</th>\n",
              "      <th>health</th>\n",
              "      <th>absences</th>\n",
              "      <th>G1</th>\n",
              "      <th>G2</th>\n",
              "      <th>G3</th>\n",
              "    </tr>\n",
              "  </thead>\n",
              "  <tbody>\n",
              "    <tr>\n",
              "      <th>0</th>\n",
              "      <td>GP</td>\n",
              "      <td>F</td>\n",
              "      <td>18</td>\n",
              "      <td>U</td>\n",
              "      <td>GT3</td>\n",
              "      <td>A</td>\n",
              "      <td>4</td>\n",
              "      <td>4</td>\n",
              "      <td>at_home</td>\n",
              "      <td>teacher</td>\n",
              "      <td>course</td>\n",
              "      <td>mother</td>\n",
              "      <td>2</td>\n",
              "      <td>2</td>\n",
              "      <td>0</td>\n",
              "      <td>yes</td>\n",
              "      <td>no</td>\n",
              "      <td>no</td>\n",
              "      <td>no</td>\n",
              "      <td>yes</td>\n",
              "      <td>yes</td>\n",
              "      <td>no</td>\n",
              "      <td>no</td>\n",
              "      <td>4</td>\n",
              "      <td>3</td>\n",
              "      <td>4</td>\n",
              "      <td>1</td>\n",
              "      <td>1</td>\n",
              "      <td>3</td>\n",
              "      <td>6</td>\n",
              "      <td>5</td>\n",
              "      <td>6</td>\n",
              "      <td>6</td>\n",
              "    </tr>\n",
              "    <tr>\n",
              "      <th>1</th>\n",
              "      <td>GP</td>\n",
              "      <td>F</td>\n",
              "      <td>17</td>\n",
              "      <td>U</td>\n",
              "      <td>GT3</td>\n",
              "      <td>T</td>\n",
              "      <td>1</td>\n",
              "      <td>1</td>\n",
              "      <td>at_home</td>\n",
              "      <td>other</td>\n",
              "      <td>course</td>\n",
              "      <td>father</td>\n",
              "      <td>1</td>\n",
              "      <td>2</td>\n",
              "      <td>0</td>\n",
              "      <td>no</td>\n",
              "      <td>yes</td>\n",
              "      <td>no</td>\n",
              "      <td>no</td>\n",
              "      <td>no</td>\n",
              "      <td>yes</td>\n",
              "      <td>yes</td>\n",
              "      <td>no</td>\n",
              "      <td>5</td>\n",
              "      <td>3</td>\n",
              "      <td>3</td>\n",
              "      <td>1</td>\n",
              "      <td>1</td>\n",
              "      <td>3</td>\n",
              "      <td>4</td>\n",
              "      <td>5</td>\n",
              "      <td>5</td>\n",
              "      <td>6</td>\n",
              "    </tr>\n",
              "    <tr>\n",
              "      <th>2</th>\n",
              "      <td>GP</td>\n",
              "      <td>F</td>\n",
              "      <td>15</td>\n",
              "      <td>U</td>\n",
              "      <td>LE3</td>\n",
              "      <td>T</td>\n",
              "      <td>1</td>\n",
              "      <td>1</td>\n",
              "      <td>at_home</td>\n",
              "      <td>other</td>\n",
              "      <td>other</td>\n",
              "      <td>mother</td>\n",
              "      <td>1</td>\n",
              "      <td>2</td>\n",
              "      <td>3</td>\n",
              "      <td>yes</td>\n",
              "      <td>no</td>\n",
              "      <td>yes</td>\n",
              "      <td>no</td>\n",
              "      <td>yes</td>\n",
              "      <td>yes</td>\n",
              "      <td>yes</td>\n",
              "      <td>no</td>\n",
              "      <td>4</td>\n",
              "      <td>3</td>\n",
              "      <td>2</td>\n",
              "      <td>2</td>\n",
              "      <td>3</td>\n",
              "      <td>3</td>\n",
              "      <td>10</td>\n",
              "      <td>7</td>\n",
              "      <td>8</td>\n",
              "      <td>10</td>\n",
              "    </tr>\n",
              "    <tr>\n",
              "      <th>3</th>\n",
              "      <td>GP</td>\n",
              "      <td>F</td>\n",
              "      <td>15</td>\n",
              "      <td>U</td>\n",
              "      <td>GT3</td>\n",
              "      <td>T</td>\n",
              "      <td>4</td>\n",
              "      <td>2</td>\n",
              "      <td>health</td>\n",
              "      <td>services</td>\n",
              "      <td>home</td>\n",
              "      <td>mother</td>\n",
              "      <td>1</td>\n",
              "      <td>3</td>\n",
              "      <td>0</td>\n",
              "      <td>no</td>\n",
              "      <td>yes</td>\n",
              "      <td>yes</td>\n",
              "      <td>yes</td>\n",
              "      <td>yes</td>\n",
              "      <td>yes</td>\n",
              "      <td>yes</td>\n",
              "      <td>yes</td>\n",
              "      <td>3</td>\n",
              "      <td>2</td>\n",
              "      <td>2</td>\n",
              "      <td>1</td>\n",
              "      <td>1</td>\n",
              "      <td>5</td>\n",
              "      <td>2</td>\n",
              "      <td>15</td>\n",
              "      <td>14</td>\n",
              "      <td>15</td>\n",
              "    </tr>\n",
              "    <tr>\n",
              "      <th>4</th>\n",
              "      <td>GP</td>\n",
              "      <td>F</td>\n",
              "      <td>16</td>\n",
              "      <td>U</td>\n",
              "      <td>GT3</td>\n",
              "      <td>T</td>\n",
              "      <td>3</td>\n",
              "      <td>3</td>\n",
              "      <td>other</td>\n",
              "      <td>other</td>\n",
              "      <td>home</td>\n",
              "      <td>father</td>\n",
              "      <td>1</td>\n",
              "      <td>2</td>\n",
              "      <td>0</td>\n",
              "      <td>no</td>\n",
              "      <td>yes</td>\n",
              "      <td>yes</td>\n",
              "      <td>no</td>\n",
              "      <td>yes</td>\n",
              "      <td>yes</td>\n",
              "      <td>no</td>\n",
              "      <td>no</td>\n",
              "      <td>4</td>\n",
              "      <td>3</td>\n",
              "      <td>2</td>\n",
              "      <td>1</td>\n",
              "      <td>2</td>\n",
              "      <td>5</td>\n",
              "      <td>4</td>\n",
              "      <td>6</td>\n",
              "      <td>10</td>\n",
              "      <td>10</td>\n",
              "    </tr>\n",
              "    <tr>\n",
              "      <th>5</th>\n",
              "      <td>GP</td>\n",
              "      <td>M</td>\n",
              "      <td>16</td>\n",
              "      <td>U</td>\n",
              "      <td>LE3</td>\n",
              "      <td>T</td>\n",
              "      <td>4</td>\n",
              "      <td>3</td>\n",
              "      <td>services</td>\n",
              "      <td>other</td>\n",
              "      <td>reputation</td>\n",
              "      <td>mother</td>\n",
              "      <td>1</td>\n",
              "      <td>2</td>\n",
              "      <td>0</td>\n",
              "      <td>no</td>\n",
              "      <td>yes</td>\n",
              "      <td>yes</td>\n",
              "      <td>yes</td>\n",
              "      <td>yes</td>\n",
              "      <td>yes</td>\n",
              "      <td>yes</td>\n",
              "      <td>no</td>\n",
              "      <td>5</td>\n",
              "      <td>4</td>\n",
              "      <td>2</td>\n",
              "      <td>1</td>\n",
              "      <td>2</td>\n",
              "      <td>5</td>\n",
              "      <td>10</td>\n",
              "      <td>15</td>\n",
              "      <td>15</td>\n",
              "      <td>15</td>\n",
              "    </tr>\n",
              "    <tr>\n",
              "      <th>6</th>\n",
              "      <td>GP</td>\n",
              "      <td>M</td>\n",
              "      <td>16</td>\n",
              "      <td>U</td>\n",
              "      <td>LE3</td>\n",
              "      <td>T</td>\n",
              "      <td>2</td>\n",
              "      <td>2</td>\n",
              "      <td>other</td>\n",
              "      <td>other</td>\n",
              "      <td>home</td>\n",
              "      <td>mother</td>\n",
              "      <td>1</td>\n",
              "      <td>2</td>\n",
              "      <td>0</td>\n",
              "      <td>no</td>\n",
              "      <td>no</td>\n",
              "      <td>no</td>\n",
              "      <td>no</td>\n",
              "      <td>yes</td>\n",
              "      <td>yes</td>\n",
              "      <td>yes</td>\n",
              "      <td>no</td>\n",
              "      <td>4</td>\n",
              "      <td>4</td>\n",
              "      <td>4</td>\n",
              "      <td>1</td>\n",
              "      <td>1</td>\n",
              "      <td>3</td>\n",
              "      <td>0</td>\n",
              "      <td>12</td>\n",
              "      <td>12</td>\n",
              "      <td>11</td>\n",
              "    </tr>\n",
              "    <tr>\n",
              "      <th>7</th>\n",
              "      <td>GP</td>\n",
              "      <td>F</td>\n",
              "      <td>17</td>\n",
              "      <td>U</td>\n",
              "      <td>GT3</td>\n",
              "      <td>A</td>\n",
              "      <td>4</td>\n",
              "      <td>4</td>\n",
              "      <td>other</td>\n",
              "      <td>teacher</td>\n",
              "      <td>home</td>\n",
              "      <td>mother</td>\n",
              "      <td>2</td>\n",
              "      <td>2</td>\n",
              "      <td>0</td>\n",
              "      <td>yes</td>\n",
              "      <td>yes</td>\n",
              "      <td>no</td>\n",
              "      <td>no</td>\n",
              "      <td>yes</td>\n",
              "      <td>yes</td>\n",
              "      <td>no</td>\n",
              "      <td>no</td>\n",
              "      <td>4</td>\n",
              "      <td>1</td>\n",
              "      <td>4</td>\n",
              "      <td>1</td>\n",
              "      <td>1</td>\n",
              "      <td>1</td>\n",
              "      <td>6</td>\n",
              "      <td>6</td>\n",
              "      <td>5</td>\n",
              "      <td>6</td>\n",
              "    </tr>\n",
              "    <tr>\n",
              "      <th>8</th>\n",
              "      <td>GP</td>\n",
              "      <td>M</td>\n",
              "      <td>15</td>\n",
              "      <td>U</td>\n",
              "      <td>LE3</td>\n",
              "      <td>A</td>\n",
              "      <td>3</td>\n",
              "      <td>2</td>\n",
              "      <td>services</td>\n",
              "      <td>other</td>\n",
              "      <td>home</td>\n",
              "      <td>mother</td>\n",
              "      <td>1</td>\n",
              "      <td>2</td>\n",
              "      <td>0</td>\n",
              "      <td>no</td>\n",
              "      <td>yes</td>\n",
              "      <td>yes</td>\n",
              "      <td>no</td>\n",
              "      <td>yes</td>\n",
              "      <td>yes</td>\n",
              "      <td>yes</td>\n",
              "      <td>no</td>\n",
              "      <td>4</td>\n",
              "      <td>2</td>\n",
              "      <td>2</td>\n",
              "      <td>1</td>\n",
              "      <td>1</td>\n",
              "      <td>1</td>\n",
              "      <td>0</td>\n",
              "      <td>16</td>\n",
              "      <td>18</td>\n",
              "      <td>19</td>\n",
              "    </tr>\n",
              "    <tr>\n",
              "      <th>9</th>\n",
              "      <td>GP</td>\n",
              "      <td>M</td>\n",
              "      <td>15</td>\n",
              "      <td>U</td>\n",
              "      <td>GT3</td>\n",
              "      <td>T</td>\n",
              "      <td>3</td>\n",
              "      <td>4</td>\n",
              "      <td>other</td>\n",
              "      <td>other</td>\n",
              "      <td>home</td>\n",
              "      <td>mother</td>\n",
              "      <td>1</td>\n",
              "      <td>2</td>\n",
              "      <td>0</td>\n",
              "      <td>no</td>\n",
              "      <td>yes</td>\n",
              "      <td>yes</td>\n",
              "      <td>yes</td>\n",
              "      <td>yes</td>\n",
              "      <td>yes</td>\n",
              "      <td>yes</td>\n",
              "      <td>no</td>\n",
              "      <td>5</td>\n",
              "      <td>5</td>\n",
              "      <td>1</td>\n",
              "      <td>1</td>\n",
              "      <td>1</td>\n",
              "      <td>5</td>\n",
              "      <td>0</td>\n",
              "      <td>14</td>\n",
              "      <td>15</td>\n",
              "      <td>15</td>\n",
              "    </tr>\n",
              "  </tbody>\n",
              "</table>\n",
              "</div>"
            ],
            "text/plain": [
              "  school sex  age address famsize Pstatus  ...  Walc  health absences  G1  G2  G3\n",
              "0     GP   F   18       U     GT3       A  ...     1       3        6   5   6   6\n",
              "1     GP   F   17       U     GT3       T  ...     1       3        4   5   5   6\n",
              "2     GP   F   15       U     LE3       T  ...     3       3       10   7   8  10\n",
              "3     GP   F   15       U     GT3       T  ...     1       5        2  15  14  15\n",
              "4     GP   F   16       U     GT3       T  ...     2       5        4   6  10  10\n",
              "5     GP   M   16       U     LE3       T  ...     2       5       10  15  15  15\n",
              "6     GP   M   16       U     LE3       T  ...     1       3        0  12  12  11\n",
              "7     GP   F   17       U     GT3       A  ...     1       1        6   6   5   6\n",
              "8     GP   M   15       U     LE3       A  ...     1       1        0  16  18  19\n",
              "9     GP   M   15       U     GT3       T  ...     1       5        0  14  15  15\n",
              "\n",
              "[10 rows x 33 columns]"
            ]
          },
          "metadata": {
            "tags": []
          },
          "execution_count": 7
        }
      ]
    },
    {
      "cell_type": "markdown",
      "metadata": {
        "id": "_XqHinyrxnLs"
      },
      "source": [
        "We are just going to consider the columns `G1` and `G3` for univariate linear regression\n",
        "\n",
        "$G3_i = G1_i  \\cdot \\theta_1 + \\theta_0$"
      ]
    },
    {
      "cell_type": "code",
      "metadata": {
        "colab": {
          "base_uri": "https://localhost:8080/",
          "height": 203
        },
        "id": "2dMn0jo2tJFW",
        "outputId": "3453c89c-b4a1-4eb7-a339-d3d20dce5b2e"
      },
      "source": [
        "uniMathData = mathData[['G1', 'G3']]\n",
        "uniMathData.head(5)"
      ],
      "execution_count": 8,
      "outputs": [
        {
          "output_type": "execute_result",
          "data": {
            "text/html": [
              "<div>\n",
              "<style scoped>\n",
              "    .dataframe tbody tr th:only-of-type {\n",
              "        vertical-align: middle;\n",
              "    }\n",
              "\n",
              "    .dataframe tbody tr th {\n",
              "        vertical-align: top;\n",
              "    }\n",
              "\n",
              "    .dataframe thead th {\n",
              "        text-align: right;\n",
              "    }\n",
              "</style>\n",
              "<table border=\"1\" class=\"dataframe\">\n",
              "  <thead>\n",
              "    <tr style=\"text-align: right;\">\n",
              "      <th></th>\n",
              "      <th>G1</th>\n",
              "      <th>G3</th>\n",
              "    </tr>\n",
              "  </thead>\n",
              "  <tbody>\n",
              "    <tr>\n",
              "      <th>0</th>\n",
              "      <td>5</td>\n",
              "      <td>6</td>\n",
              "    </tr>\n",
              "    <tr>\n",
              "      <th>1</th>\n",
              "      <td>5</td>\n",
              "      <td>6</td>\n",
              "    </tr>\n",
              "    <tr>\n",
              "      <th>2</th>\n",
              "      <td>7</td>\n",
              "      <td>10</td>\n",
              "    </tr>\n",
              "    <tr>\n",
              "      <th>3</th>\n",
              "      <td>15</td>\n",
              "      <td>15</td>\n",
              "    </tr>\n",
              "    <tr>\n",
              "      <th>4</th>\n",
              "      <td>6</td>\n",
              "      <td>10</td>\n",
              "    </tr>\n",
              "  </tbody>\n",
              "</table>\n",
              "</div>"
            ],
            "text/plain": [
              "   G1  G3\n",
              "0   5   6\n",
              "1   5   6\n",
              "2   7  10\n",
              "3  15  15\n",
              "4   6  10"
            ]
          },
          "metadata": {
            "tags": []
          },
          "execution_count": 8
        }
      ]
    },
    {
      "cell_type": "code",
      "metadata": {
        "id": "PdGsgdKZtORG"
      },
      "source": [
        "uniMathData.to_csv('univariate_MathData_2.csv')"
      ],
      "execution_count": 9,
      "outputs": []
    },
    {
      "cell_type": "code",
      "metadata": {
        "colab": {
          "base_uri": "https://localhost:8080/"
        },
        "id": "X_kB3FWXtUIs",
        "outputId": "c119b8dc-06b3-4cab-ad86-6a36754a5695"
      },
      "source": [
        "ls"
      ],
      "execution_count": 10,
      "outputs": [
        {
          "output_type": "stream",
          "text": [
            "cleanedMathData.csv  student-merge.R  student.txt\n",
            "student-mat.csv      student-por.csv  univariate_MathData_2.csv\n"
          ],
          "name": "stdout"
        }
      ]
    },
    {
      "cell_type": "markdown",
      "metadata": {
        "id": "V29wVBqCtXY5"
      },
      "source": [
        "## Data visualization"
      ]
    },
    {
      "cell_type": "code",
      "metadata": {
        "colab": {
          "base_uri": "https://localhost:8080/",
          "height": 157
        },
        "id": "o8WPwFEPtWau",
        "outputId": "ac760632-14e3-41e3-abc8-8cb3bc79112f"
      },
      "source": [
        "\n",
        "import seaborn as sns\n",
        "sns.palplot(sns.color_palette('PuOr')) #Purple to Orange colors\n",
        "pal = sns.color_palette('PuOr', 6) #print 6 color shades from Purple to Orange\n",
        "pal.as_hex() #set hex code values for colors\n",
        "\n",
        "import matplotlib.pyplot as plt\n",
        "plt.style.use(['seaborn'])\n",
        "sns_colors = ['#c6690c', '#664697'] #orange Purple hex codes\n",
        "sns.set_palette(sns_colors) #set the palette as sns_colors \n",
        "sns.palplot(sns.color_palette(sns_colors)) #plot the color codes"
      ],
      "execution_count": 11,
      "outputs": [
        {
          "output_type": "display_data",
          "data": {
            "image/png": "[encoded data removed]",
            "text/plain": [
              "<Figure size 432x72 with 1 Axes>"
            ]
          },
          "metadata": {
            "tags": [],
            "needs_background": "light"
          }
        },
        {
          "output_type": "display_data",
          "data": {
            "image/png": "[encoded data removed]",
            "text/plain": [
              "<Figure size 144x72 with 1 Axes>"
            ]
          },
          "metadata": {
            "tags": []
          }
        }
      ]
    },
    {
      "cell_type": "code",
      "metadata": {
        "colab": {
          "base_uri": "https://localhost:8080/"
        },
        "id": "ep34OAC9tjnt",
        "outputId": "e793ca86-9596-4305-8abe-5ff2c005a865"
      },
      "source": [
        "uniMathData.columns #columns in the dataframe"
      ],
      "execution_count": 12,
      "outputs": [
        {
          "output_type": "execute_result",
          "data": {
            "text/plain": [
              "Index(['G1', 'G3'], dtype='object')"
            ]
          },
          "metadata": {
            "tags": []
          },
          "execution_count": 12
        }
      ]
    },
    {
      "cell_type": "code",
      "metadata": {
        "colab": {
          "base_uri": "https://localhost:8080/",
          "height": 391
        },
        "id": "p9GfhpR5tlqF",
        "outputId": "dc8febd6-8760-4b9d-ed69-ab775c519cdd"
      },
      "source": [
        "#pairplot for all the values\n",
        "\n",
        "sns.pairplot(uniMathData,\n",
        "             x_vars = ['G1', 'G3'],\n",
        "             y_vars =  ['G1', 'G3'],\n",
        "       diag_kind='kde'\n",
        "             )"
      ],
      "execution_count": 13,
      "outputs": [
        {
          "output_type": "execute_result",
          "data": {
            "text/plain": [
              "<seaborn.axisgrid.PairGrid at 0x7fa63c81d710>"
            ]
          },
          "metadata": {
            "tags": []
          },
          "execution_count": 13
        },
        {
          "output_type": "display_data",
          "data": {
            "image/png": "[encoded data removed]",
            "text/plain": [
              "<Figure size 360x360 with 6 Axes>"
            ]
          },
          "metadata": {
            "tags": []
          }
        }
      ]
    },
    {
      "cell_type": "markdown",
      "metadata": {
        "id": "lrW_fRTftxMw"
      },
      "source": [
        "## Data Splits"
      ]
    },
    {
      "cell_type": "code",
      "metadata": {
        "colab": {
          "base_uri": "https://localhost:8080/"
        },
        "id": "5dKV1-1fts4E",
        "outputId": "7fbf4ae9-cf18-45ae-f7a4-484af6ab94a8"
      },
      "source": [
        "#80-20 train-test percent split\n",
        "\n",
        "trainDataset = uniMathData.sample(frac=0.8, random_state=0) \n",
        "testDataset = uniMathData.drop(trainDataset.index)\n",
        "\n",
        "print(trainDataset.head())\n",
        "print(testDataset.head())"
      ],
      "execution_count": 14,
      "outputs": [
        {
          "output_type": "stream",
          "text": [
            "     G1  G3\n",
            "329  14  14\n",
            "318  11  10\n",
            "317   9   9\n",
            "65   16  15\n",
            "59   15  16\n",
            "    G1  G3\n",
            "9   14  15\n",
            "25   6   8\n",
            "28  11  11\n",
            "31  17  17\n",
            "32  17  16\n"
          ],
          "name": "stdout"
        }
      ]
    },
    {
      "cell_type": "code",
      "metadata": {
        "colab": {
          "base_uri": "https://localhost:8080/"
        },
        "id": "sfwDmWOCt138",
        "outputId": "41caab34-8af3-4f45-a0d1-4ae382efc8cc"
      },
      "source": [
        "print(trainDataset.shape)\n",
        "print(testDataset.shape)"
      ],
      "execution_count": 15,
      "outputs": [
        {
          "output_type": "stream",
          "text": [
            "(316, 2)\n",
            "(79, 2)\n"
          ],
          "name": "stdout"
        }
      ]
    },
    {
      "cell_type": "code",
      "metadata": {
        "colab": {
          "base_uri": "https://localhost:8080/"
        },
        "id": "3CqT4pTtt7_F",
        "outputId": "14260e4e-f144-4c99-afd8-4a3528d8cdd7"
      },
      "source": [
        "#copy the trainDataset dataframe for getting the features\n",
        "\n",
        "trainFeatures = trainDataset.copy()\n",
        "testFeatures = testDataset.copy()\n",
        "\n",
        "print(trainFeatures.head())\n",
        "print(testFeatures.head())"
      ],
      "execution_count": 16,
      "outputs": [
        {
          "output_type": "stream",
          "text": [
            "     G1  G3\n",
            "329  14  14\n",
            "318  11  10\n",
            "317   9   9\n",
            "65   16  15\n",
            "59   15  16\n",
            "    G1  G3\n",
            "9   14  15\n",
            "25   6   8\n",
            "28  11  11\n",
            "31  17  17\n",
            "32  17  16\n"
          ],
          "name": "stdout"
        }
      ]
    },
    {
      "cell_type": "code",
      "metadata": {
        "colab": {
          "base_uri": "https://localhost:8080/"
        },
        "id": "9YtbOEUwt_gd",
        "outputId": "7ba2ecde-ceb6-42c9-c67c-1a86bbc901b8"
      },
      "source": [
        "\n",
        "#removing the G3 column and saving it into the labels variable\n",
        "\n",
        "trainLabels = trainFeatures.pop('G3')\n",
        "testLabels = testFeatures.pop('G3')\n",
        "\n",
        "print(trainLabels.head())\n",
        "print(testLabels.head())"
      ],
      "execution_count": 17,
      "outputs": [
        {
          "output_type": "stream",
          "text": [
            "329    14\n",
            "318    10\n",
            "317     9\n",
            "65     15\n",
            "59     16\n",
            "Name: G3, dtype: int64\n",
            "9     15\n",
            "25     8\n",
            "28    11\n",
            "31    17\n",
            "32    16\n",
            "Name: G3, dtype: int64\n"
          ],
          "name": "stdout"
        }
      ]
    },
    {
      "cell_type": "code",
      "metadata": {
        "colab": {
          "base_uri": "https://localhost:8080/"
        },
        "id": "i-hIMXRruEpQ",
        "outputId": "184a4307-fd01-4fb3-af73-749c4ea75e4f"
      },
      "source": [
        "print(trainFeatures.head())\n",
        "print(testFeatures.head())"
      ],
      "execution_count": 18,
      "outputs": [
        {
          "output_type": "stream",
          "text": [
            "     G1\n",
            "329  14\n",
            "318  11\n",
            "317   9\n",
            "65   16\n",
            "59   15\n",
            "    G1\n",
            "9   14\n",
            "25   6\n",
            "28  11\n",
            "31  17\n",
            "32  17\n"
          ],
          "name": "stdout"
        }
      ]
    },
    {
      "cell_type": "code",
      "metadata": {
        "id": "E2bA_VwvuJMm"
      },
      "source": [
        "# univariate -> num(features) = 1\n",
        "# multvariate -> num(features) > 1 = 11\n",
        "\n",
        "\n",
        "model = tf.keras.Sequential([\n",
        "                             tf.keras.layers.Dense(1)\n",
        "\n",
        "])"
      ],
      "execution_count": 19,
      "outputs": []
    },
    {
      "cell_type": "code",
      "metadata": {
        "id": "r8Cv0jhEuRqH"
      },
      "source": [
        "\n",
        "model.compile(\n",
        "    loss = 'mean_absolute_error',\n",
        "    optimizer = tf.keras.optimizers.Adam(0.001),\n",
        "    metrics = ['mae', 'mse']\n",
        ")"
      ],
      "execution_count": 20,
      "outputs": []
    },
    {
      "cell_type": "code",
      "metadata": {
        "colab": {
          "base_uri": "https://localhost:8080/"
        },
        "id": "RzcW-KejuUNN",
        "outputId": "f167ebf4-711d-44ee-99fb-c20bb3d41b24"
      },
      "source": [
        "\n",
        "numEpochs = 200\n",
        "history = model.fit(x = trainFeatures, y = trainLabels, validation_data = (testFeatures, testLabels), epochs = numEpochs)"
      ],
      "execution_count": 21,
      "outputs": [
        {
          "output_type": "stream",
          "text": [
            "Epoch 1/200\n",
            "10/10 [==============================] - 1s 20ms/step - loss: 16.4741 - mae: 16.4741 - mse: 309.2821 - val_loss: 17.3629 - val_mae: 17.3629 - val_mse: 341.4731\n",
            "Epoch 2/200\n",
            "10/10 [==============================] - 0s 4ms/step - loss: 16.3556 - mae: 16.3556 - mse: 304.9654 - val_loss: 17.2385 - val_mae: 17.2385 - val_mse: 336.7678\n",
            "Epoch 3/200\n",
            "10/10 [==============================] - 0s 3ms/step - loss: 16.2385 - mae: 16.2385 - mse: 300.8342 - val_loss: 17.1135 - val_mae: 17.1135 - val_mse: 332.0735\n",
            "Epoch 4/200\n",
            "10/10 [==============================] - 0s 3ms/step - loss: 16.1217 - mae: 16.1217 - mse: 296.7587 - val_loss: 16.9881 - val_mae: 16.9881 - val_mse: 327.4012\n",
            "Epoch 5/200\n",
            "10/10 [==============================] - 0s 4ms/step - loss: 16.0032 - mae: 16.0032 - mse: 292.5389 - val_loss: 16.8639 - val_mae: 16.8639 - val_mse: 322.8027\n",
            "Epoch 6/200\n",
            "10/10 [==============================] - 0s 4ms/step - loss: 15.8856 - mae: 15.8856 - mse: 288.4355 - val_loss: 16.7397 - val_mae: 16.7397 - val_mse: 318.2384\n",
            "Epoch 7/200\n",
            "10/10 [==============================] - 0s 4ms/step - loss: 15.7683 - mae: 15.7683 - mse: 284.3939 - val_loss: 16.6152 - val_mae: 16.6152 - val_mse: 313.6981\n",
            "Epoch 8/200\n",
            "10/10 [==============================] - 0s 5ms/step - loss: 15.6512 - mae: 15.6512 - mse: 280.4161 - val_loss: 16.4905 - val_mae: 16.4905 - val_mse: 309.1844\n",
            "Epoch 9/200\n",
            "10/10 [==============================] - 0s 3ms/step - loss: 15.5333 - mae: 15.5333 - mse: 276.3524 - val_loss: 16.3662 - val_mae: 16.3662 - val_mse: 304.7161\n",
            "Epoch 10/200\n",
            "10/10 [==============================] - 0s 3ms/step - loss: 15.4162 - mae: 15.4162 - mse: 272.4124 - val_loss: 16.2415 - val_mae: 16.2415 - val_mse: 300.2700\n",
            "Epoch 11/200\n",
            "10/10 [==============================] - 0s 3ms/step - loss: 15.2977 - mae: 15.2977 - mse: 268.3702 - val_loss: 16.1177 - val_mae: 16.1177 - val_mse: 295.8852\n",
            "Epoch 12/200\n",
            "10/10 [==============================] - 0s 4ms/step - loss: 15.1811 - mae: 15.1811 - mse: 264.5547 - val_loss: 15.9928 - val_mae: 15.9928 - val_mse: 291.4985\n",
            "Epoch 13/200\n",
            "10/10 [==============================] - 0s 3ms/step - loss: 15.0633 - mae: 15.0633 - mse: 260.6306 - val_loss: 15.8683 - val_mae: 15.8683 - val_mse: 287.1555\n",
            "Epoch 14/200\n",
            "10/10 [==============================] - 0s 3ms/step - loss: 14.9459 - mae: 14.9459 - mse: 256.7853 - val_loss: 15.7437 - val_mae: 15.7437 - val_mse: 282.8438\n",
            "Epoch 15/200\n",
            "10/10 [==============================] - 0s 3ms/step - loss: 14.8286 - mae: 14.8286 - mse: 252.9857 - val_loss: 15.6188 - val_mae: 15.6188 - val_mse: 278.5569\n",
            "Epoch 16/200\n",
            "10/10 [==============================] - 0s 5ms/step - loss: 14.7101 - mae: 14.7101 - mse: 249.1244 - val_loss: 15.4949 - val_mae: 15.4949 - val_mse: 274.3360\n",
            "Epoch 17/200\n",
            "10/10 [==============================] - 0s 3ms/step - loss: 14.5937 - mae: 14.5937 - mse: 245.4412 - val_loss: 15.3699 - val_mae: 15.3699 - val_mse: 270.1110\n",
            "Epoch 18/200\n",
            "10/10 [==============================] - 0s 3ms/step - loss: 14.4756 - mae: 14.4756 - mse: 241.6651 - val_loss: 15.2457 - val_mae: 15.2457 - val_mse: 265.9469\n",
            "Epoch 19/200\n",
            "10/10 [==============================] - 0s 3ms/step - loss: 14.3577 - mae: 14.3577 - mse: 237.9063 - val_loss: 15.1218 - val_mae: 15.1218 - val_mse: 261.8250\n",
            "Epoch 20/200\n",
            "10/10 [==============================] - 0s 4ms/step - loss: 14.2406 - mae: 14.2406 - mse: 234.2466 - val_loss: 14.9973 - val_mae: 14.9973 - val_mse: 257.7182\n",
            "Epoch 21/200\n",
            "10/10 [==============================] - 0s 3ms/step - loss: 14.1235 - mae: 14.1235 - mse: 230.6074 - val_loss: 14.8723 - val_mae: 14.8723 - val_mse: 253.6274\n",
            "Epoch 22/200\n",
            "10/10 [==============================] - 0s 4ms/step - loss: 14.0055 - mae: 14.0055 - mse: 226.9650 - val_loss: 14.7479 - val_mae: 14.7479 - val_mse: 249.5901\n",
            "Epoch 23/200\n",
            "10/10 [==============================] - 0s 4ms/step - loss: 13.8885 - mae: 13.8885 - mse: 223.4329 - val_loss: 14.6230 - val_mae: 14.6230 - val_mse: 245.5692\n",
            "Epoch 24/200\n",
            "10/10 [==============================] - 0s 4ms/step - loss: 13.7702 - mae: 13.7702 - mse: 219.8313 - val_loss: 14.4990 - val_mae: 14.4990 - val_mse: 241.6081\n",
            "Epoch 25/200\n",
            "10/10 [==============================] - 0s 3ms/step - loss: 13.6528 - mae: 13.6528 - mse: 216.2862 - val_loss: 14.3748 - val_mae: 14.3748 - val_mse: 237.6764\n",
            "Epoch 26/200\n",
            "10/10 [==============================] - 0s 4ms/step - loss: 13.5351 - mae: 13.5351 - mse: 212.7704 - val_loss: 14.2507 - val_mae: 14.2507 - val_mse: 233.7812\n",
            "Epoch 27/200\n",
            "10/10 [==============================] - 0s 4ms/step - loss: 13.4196 - mae: 13.4196 - mse: 209.4460 - val_loss: 14.1245 - val_mae: 14.1245 - val_mse: 229.8550\n",
            "Epoch 28/200\n",
            "10/10 [==============================] - 0s 4ms/step - loss: 13.3001 - mae: 13.3001 - mse: 205.9030 - val_loss: 14.0004 - val_mae: 14.0004 - val_mse: 226.0267\n",
            "Epoch 29/200\n",
            "10/10 [==============================] - 0s 4ms/step - loss: 13.1827 - mae: 13.1827 - mse: 202.4861 - val_loss: 13.8762 - val_mae: 13.8762 - val_mse: 222.2281\n",
            "Epoch 30/200\n",
            "10/10 [==============================] - 0s 4ms/step - loss: 13.0660 - mae: 13.0660 - mse: 199.1576 - val_loss: 13.7512 - val_mae: 13.7512 - val_mse: 218.4397\n",
            "Epoch 31/200\n",
            "10/10 [==============================] - 0s 5ms/step - loss: 12.9474 - mae: 12.9474 - mse: 195.7386 - val_loss: 13.6273 - val_mae: 13.6273 - val_mse: 214.7168\n",
            "Epoch 32/200\n",
            "10/10 [==============================] - 0s 4ms/step - loss: 12.8307 - mae: 12.8307 - mse: 192.4353 - val_loss: 13.5026 - val_mae: 13.5026 - val_mse: 211.0021\n",
            "Epoch 33/200\n",
            "10/10 [==============================] - 0s 4ms/step - loss: 12.7129 - mae: 12.7129 - mse: 189.1399 - val_loss: 13.3783 - val_mae: 13.3783 - val_mse: 207.3320\n",
            "Epoch 34/200\n",
            "10/10 [==============================] - 0s 3ms/step - loss: 12.5953 - mae: 12.5953 - mse: 185.8723 - val_loss: 13.2539 - val_mae: 13.2539 - val_mse: 203.6940\n",
            "Epoch 35/200\n",
            "10/10 [==============================] - 0s 4ms/step - loss: 12.4783 - mae: 12.4783 - mse: 182.6898 - val_loss: 13.1288 - val_mae: 13.1288 - val_mse: 200.0694\n",
            "Epoch 36/200\n",
            "10/10 [==============================] - 0s 4ms/step - loss: 12.3600 - mae: 12.3600 - mse: 179.4247 - val_loss: 13.0045 - val_mae: 13.0045 - val_mse: 196.5006\n",
            "Epoch 37/200\n",
            "10/10 [==============================] - 0s 3ms/step - loss: 12.2429 - mae: 12.2429 - mse: 176.2928 - val_loss: 12.8797 - val_mae: 12.8797 - val_mse: 192.9520\n",
            "Epoch 38/200\n",
            "10/10 [==============================] - 0s 4ms/step - loss: 12.1250 - mae: 12.1250 - mse: 173.1203 - val_loss: 12.7554 - val_mae: 12.7554 - val_mse: 189.4505\n",
            "Epoch 39/200\n",
            "10/10 [==============================] - 0s 3ms/step - loss: 12.0083 - mae: 12.0083 - mse: 170.0760 - val_loss: 12.6303 - val_mae: 12.6303 - val_mse: 185.9581\n",
            "Epoch 40/200\n",
            "10/10 [==============================] - 0s 3ms/step - loss: 11.8896 - mae: 11.8896 - mse: 166.9307 - val_loss: 12.5063 - val_mae: 12.5063 - val_mse: 182.5328\n",
            "Epoch 41/200\n",
            "10/10 [==============================] - 0s 3ms/step - loss: 11.7726 - mae: 11.7726 - mse: 163.8989 - val_loss: 12.3819 - val_mae: 12.3819 - val_mse: 179.1263\n",
            "Epoch 42/200\n",
            "10/10 [==============================] - 0s 4ms/step - loss: 11.6545 - mae: 11.6545 - mse: 160.8195 - val_loss: 12.2581 - val_mae: 12.2581 - val_mse: 175.7714\n",
            "Epoch 43/200\n",
            "10/10 [==============================] - 0s 4ms/step - loss: 11.5377 - mae: 11.5377 - mse: 157.8625 - val_loss: 12.1334 - val_mae: 12.1334 - val_mse: 172.4239\n",
            "Epoch 44/200\n",
            "10/10 [==============================] - 0s 3ms/step - loss: 11.4202 - mae: 11.4202 - mse: 154.9021 - val_loss: 12.0087 - val_mae: 12.0087 - val_mse: 169.1124\n",
            "Epoch 45/200\n",
            "10/10 [==============================] - 0s 4ms/step - loss: 11.3029 - mae: 11.3029 - mse: 151.9698 - val_loss: 11.8839 - val_mae: 11.8839 - val_mse: 165.8285\n",
            "Epoch 46/200\n",
            "10/10 [==============================] - 0s 4ms/step - loss: 11.1851 - mae: 11.1851 - mse: 149.0621 - val_loss: 11.7593 - val_mae: 11.7593 - val_mse: 162.5861\n",
            "Epoch 47/200\n",
            "10/10 [==============================] - 0s 4ms/step - loss: 11.0673 - mae: 11.0673 - mse: 146.1562 - val_loss: 11.6352 - val_mae: 11.6352 - val_mse: 159.3879\n",
            "Epoch 48/200\n",
            "10/10 [==============================] - 0s 4ms/step - loss: 10.9508 - mae: 10.9508 - mse: 143.3760 - val_loss: 11.5104 - val_mae: 11.5104 - val_mse: 156.2075\n",
            "Epoch 49/200\n",
            "10/10 [==============================] - 0s 5ms/step - loss: 10.8330 - mae: 10.8330 - mse: 140.5181 - val_loss: 11.3867 - val_mae: 11.3867 - val_mse: 153.0860\n",
            "Epoch 50/200\n",
            "10/10 [==============================] - 0s 3ms/step - loss: 10.7182 - mae: 10.7182 - mse: 137.7379 - val_loss: 11.2638 - val_mae: 11.2638 - val_mse: 150.0004\n",
            "Epoch 51/200\n",
            "10/10 [==============================] - 0s 3ms/step - loss: 10.6065 - mae: 10.6065 - mse: 135.0412 - val_loss: 11.1472 - val_mae: 11.1472 - val_mse: 147.0110\n",
            "Epoch 52/200\n",
            "10/10 [==============================] - 0s 3ms/step - loss: 10.5004 - mae: 10.5004 - mse: 132.4303 - val_loss: 11.0403 - val_mae: 11.0403 - val_mse: 144.1140\n",
            "Epoch 53/200\n",
            "10/10 [==============================] - 0s 3ms/step - loss: 10.3980 - mae: 10.3980 - mse: 129.8457 - val_loss: 10.9390 - val_mae: 10.9390 - val_mse: 141.3432\n",
            "Epoch 54/200\n",
            "10/10 [==============================] - 0s 4ms/step - loss: 10.3054 - mae: 10.3054 - mse: 127.4562 - val_loss: 10.8391 - val_mae: 10.8391 - val_mse: 138.6377\n",
            "Epoch 55/200\n",
            "10/10 [==============================] - 0s 3ms/step - loss: 10.2149 - mae: 10.2149 - mse: 125.0731 - val_loss: 10.7426 - val_mae: 10.7426 - val_mse: 136.0497\n",
            "Epoch 56/200\n",
            "10/10 [==============================] - 0s 3ms/step - loss: 10.1274 - mae: 10.1274 - mse: 122.7875 - val_loss: 10.6466 - val_mae: 10.6466 - val_mse: 133.4999\n",
            "Epoch 57/200\n",
            "10/10 [==============================] - 0s 3ms/step - loss: 10.0388 - mae: 10.0388 - mse: 120.5380 - val_loss: 10.5517 - val_mae: 10.5517 - val_mse: 131.0047\n",
            "Epoch 58/200\n",
            "10/10 [==============================] - 0s 4ms/step - loss: 9.9531 - mae: 9.9531 - mse: 118.3209 - val_loss: 10.4542 - val_mae: 10.4542 - val_mse: 128.4687\n",
            "Epoch 59/200\n",
            "10/10 [==============================] - 0s 3ms/step - loss: 9.8628 - mae: 9.8628 - mse: 116.0409 - val_loss: 10.3591 - val_mae: 10.3591 - val_mse: 126.0180\n",
            "Epoch 60/200\n",
            "10/10 [==============================] - 0s 4ms/step - loss: 9.7771 - mae: 9.7771 - mse: 113.9084 - val_loss: 10.2611 - val_mae: 10.2611 - val_mse: 123.5204\n",
            "Epoch 61/200\n",
            "10/10 [==============================] - 0s 4ms/step - loss: 9.6867 - mae: 9.6867 - mse: 111.6951 - val_loss: 10.1650 - val_mae: 10.1650 - val_mse: 121.0963\n",
            "Epoch 62/200\n",
            "10/10 [==============================] - 0s 4ms/step - loss: 9.5988 - mae: 9.5988 - mse: 109.5251 - val_loss: 10.0678 - val_mae: 10.0678 - val_mse: 118.6715\n",
            "Epoch 63/200\n",
            "10/10 [==============================] - 0s 3ms/step - loss: 9.5097 - mae: 9.5097 - mse: 107.3650 - val_loss: 9.9708 - val_mae: 9.9708 - val_mse: 116.2759\n",
            "Epoch 64/200\n",
            "10/10 [==============================] - 0s 4ms/step - loss: 9.4225 - mae: 9.4225 - mse: 105.2904 - val_loss: 9.8717 - val_mae: 9.8717 - val_mse: 113.8552\n",
            "Epoch 65/200\n",
            "10/10 [==============================] - 0s 4ms/step - loss: 9.3304 - mae: 9.3304 - mse: 103.0787 - val_loss: 9.7757 - val_mae: 9.7757 - val_mse: 111.5350\n",
            "Epoch 66/200\n",
            "10/10 [==============================] - 0s 3ms/step - loss: 9.2421 - mae: 9.2421 - mse: 101.0398 - val_loss: 9.6780 - val_mae: 9.6780 - val_mse: 109.2018\n",
            "Epoch 67/200\n",
            "10/10 [==============================] - 0s 3ms/step - loss: 9.1538 - mae: 9.1538 - mse: 99.0157 - val_loss: 9.5787 - val_mae: 9.5787 - val_mse: 106.8581\n",
            "Epoch 68/200\n",
            "10/10 [==============================] - 0s 3ms/step - loss: 9.0614 - mae: 9.0614 - mse: 96.8644 - val_loss: 9.4823 - val_mae: 9.4823 - val_mse: 104.6055\n",
            "Epoch 69/200\n",
            "10/10 [==============================] - 0s 4ms/step - loss: 8.9737 - mae: 8.9737 - mse: 94.8820 - val_loss: 9.3831 - val_mae: 9.3831 - val_mse: 102.3173\n",
            "Epoch 70/200\n",
            "10/10 [==============================] - 0s 4ms/step - loss: 8.8836 - mae: 8.8836 - mse: 92.8840 - val_loss: 9.2838 - val_mae: 9.2838 - val_mse: 100.0529\n",
            "Epoch 71/200\n",
            "10/10 [==============================] - 0s 4ms/step - loss: 8.7938 - mae: 8.7938 - mse: 90.8722 - val_loss: 9.1840 - val_mae: 9.1840 - val_mse: 97.8026\n",
            "Epoch 72/200\n",
            "10/10 [==============================] - 0s 3ms/step - loss: 8.7022 - mae: 8.7022 - mse: 88.8753 - val_loss: 9.0853 - val_mae: 9.0853 - val_mse: 95.6070\n",
            "Epoch 73/200\n",
            "10/10 [==============================] - 0s 3ms/step - loss: 8.6111 - mae: 8.6111 - mse: 86.9190 - val_loss: 8.9870 - val_mae: 8.9870 - val_mse: 93.4461\n",
            "Epoch 74/200\n",
            "10/10 [==============================] - 0s 3ms/step - loss: 8.5214 - mae: 8.5214 - mse: 85.0169 - val_loss: 8.8876 - val_mae: 8.8876 - val_mse: 91.2867\n",
            "Epoch 75/200\n",
            "10/10 [==============================] - 0s 3ms/step - loss: 8.4294 - mae: 8.4294 - mse: 83.0738 - val_loss: 8.7892 - val_mae: 8.7892 - val_mse: 89.1770\n",
            "Epoch 76/200\n",
            "10/10 [==============================] - 0s 4ms/step - loss: 8.3410 - mae: 8.3410 - mse: 81.2095 - val_loss: 8.6877 - val_mae: 8.6877 - val_mse: 87.0287\n",
            "Epoch 77/200\n",
            "10/10 [==============================] - 0s 3ms/step - loss: 8.2466 - mae: 8.2466 - mse: 79.3002 - val_loss: 8.5892 - val_mae: 8.5892 - val_mse: 84.9708\n",
            "Epoch 78/200\n",
            "10/10 [==============================] - 0s 3ms/step - loss: 8.1564 - mae: 8.1564 - mse: 77.4401 - val_loss: 8.4890 - val_mae: 8.4890 - val_mse: 82.9035\n",
            "Epoch 79/200\n",
            "10/10 [==============================] - 0s 4ms/step - loss: 8.0648 - mae: 8.0648 - mse: 75.6527 - val_loss: 8.3885 - val_mae: 8.3885 - val_mse: 80.8585\n",
            "Epoch 80/200\n",
            "10/10 [==============================] - 0s 4ms/step - loss: 7.9733 - mae: 7.9733 - mse: 73.8422 - val_loss: 8.2875 - val_mae: 8.2875 - val_mse: 78.8320\n",
            "Epoch 81/200\n",
            "10/10 [==============================] - 0s 3ms/step - loss: 7.8811 - mae: 7.8811 - mse: 72.0280 - val_loss: 8.1868 - val_mae: 8.1868 - val_mse: 76.8398\n",
            "Epoch 82/200\n",
            "10/10 [==============================] - 0s 3ms/step - loss: 7.7890 - mae: 7.7890 - mse: 70.2792 - val_loss: 8.0861 - val_mae: 8.0861 - val_mse: 74.8745\n",
            "Epoch 83/200\n",
            "10/10 [==============================] - 0s 3ms/step - loss: 7.6970 - mae: 7.6970 - mse: 68.5406 - val_loss: 7.9851 - val_mae: 7.9851 - val_mse: 72.9311\n",
            "Epoch 84/200\n",
            "10/10 [==============================] - 0s 3ms/step - loss: 7.6047 - mae: 7.6047 - mse: 66.8270 - val_loss: 7.8841 - val_mae: 7.8841 - val_mse: 71.0161\n",
            "Epoch 85/200\n",
            "10/10 [==============================] - 0s 3ms/step - loss: 7.5119 - mae: 7.5119 - mse: 65.1315 - val_loss: 7.7834 - val_mae: 7.7834 - val_mse: 69.1354\n",
            "Epoch 86/200\n",
            "10/10 [==============================] - 0s 4ms/step - loss: 7.4191 - mae: 7.4191 - mse: 63.4440 - val_loss: 7.6830 - val_mae: 7.6830 - val_mse: 67.2875\n",
            "Epoch 87/200\n",
            "10/10 [==============================] - 0s 3ms/step - loss: 7.3277 - mae: 7.3277 - mse: 61.7992 - val_loss: 7.5812 - val_mae: 7.5812 - val_mse: 65.4427\n",
            "Epoch 88/200\n",
            "10/10 [==============================] - 0s 4ms/step - loss: 7.2357 - mae: 7.2357 - mse: 60.2195 - val_loss: 7.4786 - val_mae: 7.4786 - val_mse: 63.6117\n",
            "Epoch 89/200\n",
            "10/10 [==============================] - 0s 3ms/step - loss: 7.1412 - mae: 7.1412 - mse: 58.5690 - val_loss: 7.3777 - val_mae: 7.3777 - val_mse: 61.8403\n",
            "Epoch 90/200\n",
            "10/10 [==============================] - 0s 3ms/step - loss: 7.0487 - mae: 7.0487 - mse: 57.0020 - val_loss: 7.2761 - val_mae: 7.2761 - val_mse: 60.0845\n",
            "Epoch 91/200\n",
            "10/10 [==============================] - 0s 3ms/step - loss: 6.9558 - mae: 6.9558 - mse: 55.4542 - val_loss: 7.1744 - val_mae: 7.1744 - val_mse: 58.3544\n",
            "Epoch 92/200\n",
            "10/10 [==============================] - 0s 4ms/step - loss: 6.8629 - mae: 6.8629 - mse: 53.8996 - val_loss: 7.0724 - val_mae: 7.0724 - val_mse: 56.6482\n",
            "Epoch 93/200\n",
            "10/10 [==============================] - 0s 4ms/step - loss: 6.7698 - mae: 6.7698 - mse: 52.4108 - val_loss: 6.9698 - val_mae: 6.9698 - val_mse: 54.9616\n",
            "Epoch 94/200\n",
            "10/10 [==============================] - 0s 3ms/step - loss: 6.6774 - mae: 6.6774 - mse: 50.9416 - val_loss: 6.8666 - val_mae: 6.8666 - val_mse: 53.2936\n",
            "Epoch 95/200\n",
            "10/10 [==============================] - 0s 5ms/step - loss: 6.5818 - mae: 6.5818 - mse: 49.4518 - val_loss: 6.7656 - val_mae: 6.7656 - val_mse: 51.6890\n",
            "Epoch 96/200\n",
            "10/10 [==============================] - 0s 4ms/step - loss: 6.4889 - mae: 6.4889 - mse: 48.0348 - val_loss: 6.6637 - val_mae: 6.6637 - val_mse: 50.0992\n",
            "Epoch 97/200\n",
            "10/10 [==============================] - 0s 4ms/step - loss: 6.3963 - mae: 6.3963 - mse: 46.6348 - val_loss: 6.5606 - val_mae: 6.5606 - val_mse: 48.5195\n",
            "Epoch 98/200\n",
            "10/10 [==============================] - 0s 3ms/step - loss: 6.3020 - mae: 6.3020 - mse: 45.2414 - val_loss: 6.4580 - val_mae: 6.4580 - val_mse: 46.9773\n",
            "Epoch 99/200\n",
            "10/10 [==============================] - 0s 4ms/step - loss: 6.2081 - mae: 6.2081 - mse: 43.8742 - val_loss: 6.3557 - val_mae: 6.3557 - val_mse: 45.4682\n",
            "Epoch 100/200\n",
            "10/10 [==============================] - 0s 4ms/step - loss: 6.1150 - mae: 6.1150 - mse: 42.5316 - val_loss: 6.2527 - val_mae: 6.2527 - val_mse: 43.9767\n",
            "Epoch 101/200\n",
            "10/10 [==============================] - 0s 4ms/step - loss: 6.0221 - mae: 6.0221 - mse: 41.2501 - val_loss: 6.1486 - val_mae: 6.1486 - val_mse: 42.4998\n",
            "Epoch 102/200\n",
            "10/10 [==============================] - 0s 4ms/step - loss: 5.9250 - mae: 5.9250 - mse: 39.9279 - val_loss: 6.0479 - val_mae: 6.0479 - val_mse: 41.0996\n",
            "Epoch 103/200\n",
            "10/10 [==============================] - 0s 3ms/step - loss: 5.8337 - mae: 5.8337 - mse: 38.6872 - val_loss: 5.9441 - val_mae: 5.9441 - val_mse: 39.6850\n",
            "Epoch 104/200\n",
            "10/10 [==============================] - 0s 3ms/step - loss: 5.7378 - mae: 5.7378 - mse: 37.4367 - val_loss: 5.8421 - val_mae: 5.8421 - val_mse: 38.3248\n",
            "Epoch 105/200\n",
            "10/10 [==============================] - 0s 3ms/step - loss: 5.6446 - mae: 5.6446 - mse: 36.2326 - val_loss: 5.7390 - val_mae: 5.7390 - val_mse: 36.9778\n",
            "Epoch 106/200\n",
            "10/10 [==============================] - 0s 3ms/step - loss: 5.5507 - mae: 5.5507 - mse: 35.0662 - val_loss: 5.6353 - val_mae: 5.6353 - val_mse: 35.6531\n",
            "Epoch 107/200\n",
            "10/10 [==============================] - 0s 4ms/step - loss: 5.4564 - mae: 5.4564 - mse: 33.9086 - val_loss: 5.5314 - val_mae: 5.5314 - val_mse: 34.3555\n",
            "Epoch 108/200\n",
            "10/10 [==============================] - 0s 6ms/step - loss: 5.3618 - mae: 5.3618 - mse: 32.7574 - val_loss: 5.4275 - val_mae: 5.4275 - val_mse: 33.0877\n",
            "Epoch 109/200\n",
            "10/10 [==============================] - 0s 3ms/step - loss: 5.2670 - mae: 5.2670 - mse: 31.6339 - val_loss: 5.3239 - val_mae: 5.3239 - val_mse: 31.8526\n",
            "Epoch 110/200\n",
            "10/10 [==============================] - 0s 4ms/step - loss: 5.1709 - mae: 5.1709 - mse: 30.5346 - val_loss: 5.2219 - val_mae: 5.2219 - val_mse: 30.6656\n",
            "Epoch 111/200\n",
            "10/10 [==============================] - 0s 4ms/step - loss: 5.0779 - mae: 5.0779 - mse: 29.4940 - val_loss: 5.1177 - val_mae: 5.1177 - val_mse: 29.4830\n",
            "Epoch 112/200\n",
            "10/10 [==============================] - 0s 4ms/step - loss: 4.9825 - mae: 4.9825 - mse: 28.4507 - val_loss: 5.0140 - val_mae: 5.0140 - val_mse: 28.3351\n",
            "Epoch 113/200\n",
            "10/10 [==============================] - 0s 3ms/step - loss: 4.8869 - mae: 4.8869 - mse: 27.4469 - val_loss: 4.9122 - val_mae: 4.9122 - val_mse: 27.2267\n",
            "Epoch 114/200\n",
            "10/10 [==============================] - 0s 4ms/step - loss: 4.7937 - mae: 4.7937 - mse: 26.4749 - val_loss: 4.8103 - val_mae: 4.8103 - val_mse: 26.1351\n",
            "Epoch 115/200\n",
            "10/10 [==============================] - 0s 4ms/step - loss: 4.7003 - mae: 4.7003 - mse: 25.5278 - val_loss: 4.7076 - val_mae: 4.7076 - val_mse: 25.0641\n",
            "Epoch 116/200\n",
            "10/10 [==============================] - 0s 3ms/step - loss: 4.6043 - mae: 4.6043 - mse: 24.5818 - val_loss: 4.6067 - val_mae: 4.6067 - val_mse: 24.0421\n",
            "Epoch 117/200\n",
            "10/10 [==============================] - 0s 4ms/step - loss: 4.5111 - mae: 4.5111 - mse: 23.6987 - val_loss: 4.5048 - val_mae: 4.5048 - val_mse: 23.0382\n",
            "Epoch 118/200\n",
            "10/10 [==============================] - 0s 4ms/step - loss: 4.4148 - mae: 4.4148 - mse: 22.7865 - val_loss: 4.4046 - val_mae: 4.4046 - val_mse: 22.0812\n",
            "Epoch 119/200\n",
            "10/10 [==============================] - 0s 3ms/step - loss: 4.3224 - mae: 4.3224 - mse: 21.9616 - val_loss: 4.3025 - val_mae: 4.3025 - val_mse: 21.1357\n",
            "Epoch 120/200\n",
            "10/10 [==============================] - 0s 3ms/step - loss: 4.2290 - mae: 4.2290 - mse: 21.1349 - val_loss: 4.2007 - val_mae: 4.2007 - val_mse: 20.2226\n",
            "Epoch 121/200\n",
            "10/10 [==============================] - 0s 4ms/step - loss: 4.1361 - mae: 4.1361 - mse: 20.3486 - val_loss: 4.0993 - val_mae: 4.0993 - val_mse: 19.3426\n",
            "Epoch 122/200\n",
            "10/10 [==============================] - 0s 4ms/step - loss: 4.0436 - mae: 4.0436 - mse: 19.5721 - val_loss: 3.9977 - val_mae: 3.9977 - val_mse: 18.4901\n",
            "Epoch 123/200\n",
            "10/10 [==============================] - 0s 4ms/step - loss: 3.9496 - mae: 3.9496 - mse: 18.8111 - val_loss: 3.8978 - val_mae: 3.8978 - val_mse: 17.6810\n",
            "Epoch 124/200\n",
            "10/10 [==============================] - 0s 4ms/step - loss: 3.8593 - mae: 3.8593 - mse: 18.1313 - val_loss: 3.7968 - val_mae: 3.7968 - val_mse: 16.8922\n",
            "Epoch 125/200\n",
            "10/10 [==============================] - 0s 4ms/step - loss: 3.7667 - mae: 3.7667 - mse: 17.4297 - val_loss: 3.6980 - val_mae: 3.6980 - val_mse: 16.1488\n",
            "Epoch 126/200\n",
            "10/10 [==============================] - 0s 5ms/step - loss: 3.6786 - mae: 3.6786 - mse: 16.7846 - val_loss: 3.5987 - val_mae: 3.5987 - val_mse: 15.4296\n",
            "Epoch 127/200\n",
            "10/10 [==============================] - 0s 4ms/step - loss: 3.5902 - mae: 3.5902 - mse: 16.1566 - val_loss: 3.4999 - val_mae: 3.4999 - val_mse: 14.7421\n",
            "Epoch 128/200\n",
            "10/10 [==============================] - 0s 4ms/step - loss: 3.5017 - mae: 3.5017 - mse: 15.5533 - val_loss: 3.4025 - val_mae: 3.4025 - val_mse: 14.0920\n",
            "Epoch 129/200\n",
            "10/10 [==============================] - 0s 3ms/step - loss: 3.4163 - mae: 3.4163 - mse: 14.9920 - val_loss: 3.3047 - val_mae: 3.3047 - val_mse: 13.4665\n",
            "Epoch 130/200\n",
            "10/10 [==============================] - 0s 3ms/step - loss: 3.3314 - mae: 3.3314 - mse: 14.4638 - val_loss: 3.2075 - val_mae: 3.2075 - val_mse: 12.8716\n",
            "Epoch 131/200\n",
            "10/10 [==============================] - 0s 4ms/step - loss: 3.2476 - mae: 3.2476 - mse: 13.9431 - val_loss: 3.1099 - val_mae: 3.1099 - val_mse: 12.3018\n",
            "Epoch 132/200\n",
            "10/10 [==============================] - 0s 5ms/step - loss: 3.1615 - mae: 3.1615 - mse: 13.4418 - val_loss: 3.0145 - val_mae: 3.0145 - val_mse: 11.7714\n",
            "Epoch 133/200\n",
            "10/10 [==============================] - 0s 5ms/step - loss: 3.0793 - mae: 3.0793 - mse: 12.9918 - val_loss: 2.9212 - val_mae: 2.9212 - val_mse: 11.2585\n",
            "Epoch 134/200\n",
            "10/10 [==============================] - 0s 4ms/step - loss: 2.9977 - mae: 2.9977 - mse: 12.5500 - val_loss: 2.8323 - val_mae: 2.8323 - val_mse: 10.7795\n",
            "Epoch 135/200\n",
            "10/10 [==============================] - 0s 3ms/step - loss: 2.9177 - mae: 2.9177 - mse: 12.1422 - val_loss: 2.7441 - val_mae: 2.7441 - val_mse: 10.3303\n",
            "Epoch 136/200\n",
            "10/10 [==============================] - 0s 4ms/step - loss: 2.8384 - mae: 2.8384 - mse: 11.7419 - val_loss: 2.6601 - val_mae: 2.6601 - val_mse: 9.9187\n",
            "Epoch 137/200\n",
            "10/10 [==============================] - 0s 4ms/step - loss: 2.7632 - mae: 2.7632 - mse: 11.3900 - val_loss: 2.5765 - val_mae: 2.5765 - val_mse: 9.5291\n",
            "Epoch 138/200\n",
            "10/10 [==============================] - 0s 4ms/step - loss: 2.6886 - mae: 2.6886 - mse: 11.0488 - val_loss: 2.4939 - val_mae: 2.4939 - val_mse: 9.1682\n",
            "Epoch 139/200\n",
            "10/10 [==============================] - 0s 3ms/step - loss: 2.6156 - mae: 2.6156 - mse: 10.7562 - val_loss: 2.4125 - val_mae: 2.4125 - val_mse: 8.8364\n",
            "Epoch 140/200\n",
            "10/10 [==============================] - 0s 3ms/step - loss: 2.5447 - mae: 2.5447 - mse: 10.4651 - val_loss: 2.3324 - val_mae: 2.3324 - val_mse: 8.5324\n",
            "Epoch 141/200\n",
            "10/10 [==============================] - 0s 3ms/step - loss: 2.4762 - mae: 2.4762 - mse: 10.2082 - val_loss: 2.2558 - val_mae: 2.2558 - val_mse: 8.2577\n",
            "Epoch 142/200\n",
            "10/10 [==============================] - 0s 3ms/step - loss: 2.4160 - mae: 2.4160 - mse: 9.9825 - val_loss: 2.1840 - val_mae: 2.1840 - val_mse: 8.0184\n",
            "Epoch 143/200\n",
            "10/10 [==============================] - 0s 3ms/step - loss: 2.3602 - mae: 2.3602 - mse: 9.7795 - val_loss: 2.1120 - val_mae: 2.1120 - val_mse: 7.7976\n",
            "Epoch 144/200\n",
            "10/10 [==============================] - 0s 4ms/step - loss: 2.3069 - mae: 2.3069 - mse: 9.6041 - val_loss: 2.0447 - val_mae: 2.0447 - val_mse: 7.6047\n",
            "Epoch 145/200\n",
            "10/10 [==============================] - 0s 4ms/step - loss: 2.2603 - mae: 2.2603 - mse: 9.4423 - val_loss: 1.9859 - val_mae: 1.9859 - val_mse: 7.4468\n",
            "Epoch 146/200\n",
            "10/10 [==============================] - 0s 3ms/step - loss: 2.2195 - mae: 2.2195 - mse: 9.3069 - val_loss: 1.9318 - val_mae: 1.9318 - val_mse: 7.3075\n",
            "Epoch 147/200\n",
            "10/10 [==============================] - 0s 4ms/step - loss: 2.1828 - mae: 2.1828 - mse: 9.1959 - val_loss: 1.8837 - val_mae: 1.8837 - val_mse: 7.1885\n",
            "Epoch 148/200\n",
            "10/10 [==============================] - 0s 3ms/step - loss: 2.1535 - mae: 2.1535 - mse: 9.1034 - val_loss: 1.8379 - val_mae: 1.8379 - val_mse: 7.0843\n",
            "Epoch 149/200\n",
            "10/10 [==============================] - 0s 5ms/step - loss: 2.1236 - mae: 2.1236 - mse: 9.0238 - val_loss: 1.7943 - val_mae: 1.7943 - val_mse: 6.9955\n",
            "Epoch 150/200\n",
            "10/10 [==============================] - 0s 4ms/step - loss: 2.0965 - mae: 2.0965 - mse: 8.9496 - val_loss: 1.7618 - val_mae: 1.7618 - val_mse: 6.9182\n",
            "Epoch 151/200\n",
            "10/10 [==============================] - 0s 3ms/step - loss: 2.0705 - mae: 2.0705 - mse: 8.8815 - val_loss: 1.7348 - val_mae: 1.7348 - val_mse: 6.8581\n",
            "Epoch 152/200\n",
            "10/10 [==============================] - 0s 3ms/step - loss: 2.0494 - mae: 2.0494 - mse: 8.8383 - val_loss: 1.7086 - val_mae: 1.7086 - val_mse: 6.8017\n",
            "Epoch 153/200\n",
            "10/10 [==============================] - 0s 4ms/step - loss: 2.0275 - mae: 2.0275 - mse: 8.7959 - val_loss: 1.6888 - val_mae: 1.6888 - val_mse: 6.7572\n",
            "Epoch 154/200\n",
            "10/10 [==============================] - 0s 4ms/step - loss: 2.0080 - mae: 2.0080 - mse: 8.7597 - val_loss: 1.6698 - val_mae: 1.6698 - val_mse: 6.7210\n",
            "Epoch 155/200\n",
            "10/10 [==============================] - 0s 4ms/step - loss: 1.9898 - mae: 1.9898 - mse: 8.7295 - val_loss: 1.6545 - val_mae: 1.6545 - val_mse: 6.6925\n",
            "Epoch 156/200\n",
            "10/10 [==============================] - 0s 4ms/step - loss: 1.9768 - mae: 1.9768 - mse: 8.7093 - val_loss: 1.6429 - val_mae: 1.6429 - val_mse: 6.6721\n",
            "Epoch 157/200\n",
            "10/10 [==============================] - 0s 4ms/step - loss: 1.9649 - mae: 1.9649 - mse: 8.6934 - val_loss: 1.6327 - val_mae: 1.6327 - val_mse: 6.6579\n",
            "Epoch 158/200\n",
            "10/10 [==============================] - 0s 4ms/step - loss: 1.9551 - mae: 1.9551 - mse: 8.6826 - val_loss: 1.6236 - val_mae: 1.6236 - val_mse: 6.6473\n",
            "Epoch 159/200\n",
            "10/10 [==============================] - 0s 4ms/step - loss: 1.9464 - mae: 1.9464 - mse: 8.6817 - val_loss: 1.6168 - val_mae: 1.6168 - val_mse: 6.6410\n",
            "Epoch 160/200\n",
            "10/10 [==============================] - 0s 3ms/step - loss: 1.9385 - mae: 1.9385 - mse: 8.6793 - val_loss: 1.6114 - val_mae: 1.6114 - val_mse: 6.6380\n",
            "Epoch 161/200\n",
            "10/10 [==============================] - 0s 3ms/step - loss: 1.9332 - mae: 1.9332 - mse: 8.6746 - val_loss: 1.6069 - val_mae: 1.6069 - val_mse: 6.6370\n",
            "Epoch 162/200\n",
            "10/10 [==============================] - 0s 3ms/step - loss: 1.9285 - mae: 1.9285 - mse: 8.6768 - val_loss: 1.6062 - val_mae: 1.6062 - val_mse: 6.6382\n",
            "Epoch 163/200\n",
            "10/10 [==============================] - 0s 3ms/step - loss: 1.9241 - mae: 1.9241 - mse: 8.6786 - val_loss: 1.6057 - val_mae: 1.6057 - val_mse: 6.6402\n",
            "Epoch 164/200\n",
            "10/10 [==============================] - 0s 4ms/step - loss: 1.9211 - mae: 1.9211 - mse: 8.6787 - val_loss: 1.6051 - val_mae: 1.6051 - val_mse: 6.6436\n",
            "Epoch 165/200\n",
            "10/10 [==============================] - 0s 3ms/step - loss: 1.9177 - mae: 1.9177 - mse: 8.6856 - val_loss: 1.6046 - val_mae: 1.6046 - val_mse: 6.6481\n",
            "Epoch 166/200\n",
            "10/10 [==============================] - 0s 3ms/step - loss: 1.9145 - mae: 1.9145 - mse: 8.6892 - val_loss: 1.6053 - val_mae: 1.6053 - val_mse: 6.6540\n",
            "Epoch 167/200\n",
            "10/10 [==============================] - 0s 5ms/step - loss: 1.9122 - mae: 1.9122 - mse: 8.6949 - val_loss: 1.6067 - val_mae: 1.6067 - val_mse: 6.6590\n",
            "Epoch 168/200\n",
            "10/10 [==============================] - 0s 3ms/step - loss: 1.9110 - mae: 1.9110 - mse: 8.6993 - val_loss: 1.6080 - val_mae: 1.6080 - val_mse: 6.6641\n",
            "Epoch 169/200\n",
            "10/10 [==============================] - 0s 4ms/step - loss: 1.9099 - mae: 1.9099 - mse: 8.7076 - val_loss: 1.6093 - val_mae: 1.6093 - val_mse: 6.6699\n",
            "Epoch 170/200\n",
            "10/10 [==============================] - 0s 4ms/step - loss: 1.9088 - mae: 1.9088 - mse: 8.7142 - val_loss: 1.6105 - val_mae: 1.6105 - val_mse: 6.6759\n",
            "Epoch 171/200\n",
            "10/10 [==============================] - 0s 4ms/step - loss: 1.9074 - mae: 1.9074 - mse: 8.7174 - val_loss: 1.6116 - val_mae: 1.6116 - val_mse: 6.6817\n",
            "Epoch 172/200\n",
            "10/10 [==============================] - 0s 3ms/step - loss: 1.9061 - mae: 1.9061 - mse: 8.7223 - val_loss: 1.6124 - val_mae: 1.6124 - val_mse: 6.6860\n",
            "Epoch 173/200\n",
            "10/10 [==============================] - 0s 3ms/step - loss: 1.9051 - mae: 1.9051 - mse: 8.7277 - val_loss: 1.6136 - val_mae: 1.6136 - val_mse: 6.6932\n",
            "Epoch 174/200\n",
            "10/10 [==============================] - 0s 3ms/step - loss: 1.9044 - mae: 1.9044 - mse: 8.7362 - val_loss: 1.6151 - val_mae: 1.6151 - val_mse: 6.7027\n",
            "Epoch 175/200\n",
            "10/10 [==============================] - 0s 3ms/step - loss: 1.9025 - mae: 1.9025 - mse: 8.7423 - val_loss: 1.6159 - val_mae: 1.6159 - val_mse: 6.7086\n",
            "Epoch 176/200\n",
            "10/10 [==============================] - 0s 6ms/step - loss: 1.9016 - mae: 1.9016 - mse: 8.7480 - val_loss: 1.6174 - val_mae: 1.6174 - val_mse: 6.7148\n",
            "Epoch 177/200\n",
            "10/10 [==============================] - 0s 4ms/step - loss: 1.9014 - mae: 1.9014 - mse: 8.7550 - val_loss: 1.6192 - val_mae: 1.6192 - val_mse: 6.7203\n",
            "Epoch 178/200\n",
            "10/10 [==============================] - 0s 3ms/step - loss: 1.9013 - mae: 1.9013 - mse: 8.7598 - val_loss: 1.6206 - val_mae: 1.6206 - val_mse: 6.7245\n",
            "Epoch 179/200\n",
            "10/10 [==============================] - 0s 4ms/step - loss: 1.9011 - mae: 1.9011 - mse: 8.7625 - val_loss: 1.6214 - val_mae: 1.6214 - val_mse: 6.7269\n",
            "Epoch 180/200\n",
            "10/10 [==============================] - 0s 4ms/step - loss: 1.9009 - mae: 1.9009 - mse: 8.7649 - val_loss: 1.6224 - val_mae: 1.6224 - val_mse: 6.7300\n",
            "Epoch 181/200\n",
            "10/10 [==============================] - 0s 4ms/step - loss: 1.9007 - mae: 1.9007 - mse: 8.7677 - val_loss: 1.6231 - val_mae: 1.6231 - val_mse: 6.7321\n",
            "Epoch 182/200\n",
            "10/10 [==============================] - 0s 3ms/step - loss: 1.9006 - mae: 1.9006 - mse: 8.7690 - val_loss: 1.6235 - val_mae: 1.6235 - val_mse: 6.7331\n",
            "Epoch 183/200\n",
            "10/10 [==============================] - 0s 4ms/step - loss: 1.9005 - mae: 1.9005 - mse: 8.7706 - val_loss: 1.6245 - val_mae: 1.6245 - val_mse: 6.7361\n",
            "Epoch 184/200\n",
            "10/10 [==============================] - 0s 4ms/step - loss: 1.9004 - mae: 1.9004 - mse: 8.7749 - val_loss: 1.6255 - val_mae: 1.6255 - val_mse: 6.7394\n",
            "Epoch 185/200\n",
            "10/10 [==============================] - 0s 3ms/step - loss: 1.9002 - mae: 1.9002 - mse: 8.7761 - val_loss: 1.6262 - val_mae: 1.6262 - val_mse: 6.7414\n",
            "Epoch 186/200\n",
            "10/10 [==============================] - 0s 4ms/step - loss: 1.9002 - mae: 1.9002 - mse: 8.7811 - val_loss: 1.6278 - val_mae: 1.6278 - val_mse: 6.7472\n",
            "Epoch 187/200\n",
            "10/10 [==============================] - 0s 4ms/step - loss: 1.8998 - mae: 1.8998 - mse: 8.7845 - val_loss: 1.6286 - val_mae: 1.6286 - val_mse: 6.7496\n",
            "Epoch 188/200\n",
            "10/10 [==============================] - 0s 4ms/step - loss: 1.8997 - mae: 1.8997 - mse: 8.7881 - val_loss: 1.6296 - val_mae: 1.6296 - val_mse: 6.7533\n",
            "Epoch 189/200\n",
            "10/10 [==============================] - 0s 3ms/step - loss: 1.8995 - mae: 1.8995 - mse: 8.7893 - val_loss: 1.6303 - val_mae: 1.6303 - val_mse: 6.7555\n",
            "Epoch 190/200\n",
            "10/10 [==============================] - 0s 3ms/step - loss: 1.8993 - mae: 1.8993 - mse: 8.7922 - val_loss: 1.6312 - val_mae: 1.6312 - val_mse: 6.7586\n",
            "Epoch 191/200\n",
            "10/10 [==============================] - 0s 4ms/step - loss: 1.8992 - mae: 1.8992 - mse: 8.7963 - val_loss: 1.6324 - val_mae: 1.6324 - val_mse: 6.7632\n",
            "Epoch 192/200\n",
            "10/10 [==============================] - 0s 4ms/step - loss: 1.8990 - mae: 1.8990 - mse: 8.7998 - val_loss: 1.6336 - val_mae: 1.6336 - val_mse: 6.7677\n",
            "Epoch 193/200\n",
            "10/10 [==============================] - 0s 4ms/step - loss: 1.8988 - mae: 1.8988 - mse: 8.8027 - val_loss: 1.6339 - val_mae: 1.6339 - val_mse: 6.7686\n",
            "Epoch 194/200\n",
            "10/10 [==============================] - 0s 3ms/step - loss: 1.8987 - mae: 1.8987 - mse: 8.8047 - val_loss: 1.6350 - val_mae: 1.6350 - val_mse: 6.7726\n",
            "Epoch 195/200\n",
            "10/10 [==============================] - 0s 3ms/step - loss: 1.8986 - mae: 1.8986 - mse: 8.8082 - val_loss: 1.6361 - val_mae: 1.6361 - val_mse: 6.7768\n",
            "Epoch 196/200\n",
            "10/10 [==============================] - 0s 4ms/step - loss: 1.8984 - mae: 1.8984 - mse: 8.8121 - val_loss: 1.6371 - val_mae: 1.6371 - val_mse: 6.7809\n",
            "Epoch 197/200\n",
            "10/10 [==============================] - 0s 3ms/step - loss: 1.8982 - mae: 1.8982 - mse: 8.8168 - val_loss: 1.6383 - val_mae: 1.6383 - val_mse: 6.7855\n",
            "Epoch 198/200\n",
            "10/10 [==============================] - 0s 4ms/step - loss: 1.8980 - mae: 1.8980 - mse: 8.8204 - val_loss: 1.6390 - val_mae: 1.6390 - val_mse: 6.7883\n",
            "Epoch 199/200\n",
            "10/10 [==============================] - 0s 4ms/step - loss: 1.8980 - mae: 1.8980 - mse: 8.8206 - val_loss: 1.6389 - val_mae: 1.6389 - val_mse: 6.7875\n",
            "Epoch 200/200\n",
            "10/10 [==============================] - 0s 4ms/step - loss: 1.8979 - mae: 1.8979 - mse: 8.8216 - val_loss: 1.6391 - val_mae: 1.6391 - val_mse: 6.7880\n"
          ],
          "name": "stdout"
        }
      ]
    },
    {
      "cell_type": "code",
      "metadata": {
        "colab": {
          "base_uri": "https://localhost:8080/"
        },
        "id": "7BaNyVczueXh",
        "outputId": "8cb5da28-db00-4056-a891-f532bb4a27e8"
      },
      "source": [
        "model.summary()"
      ],
      "execution_count": 22,
      "outputs": [
        {
          "output_type": "stream",
          "text": [
            "Model: \"sequential\"\n",
            "_________________________________________________________________\n",
            "Layer (type)                 Output Shape              Param #   \n",
            "=================================================================\n",
            "dense (Dense)                (None, 1)                 2         \n",
            "=================================================================\n",
            "Total params: 2\n",
            "Trainable params: 2\n",
            "Non-trainable params: 0\n",
            "_________________________________________________________________\n"
          ],
          "name": "stdout"
        }
      ]
    },
    {
      "cell_type": "code",
      "metadata": {
        "colab": {
          "base_uri": "https://localhost:8080/",
          "height": 707
        },
        "id": "F_MJeNXNufRj",
        "outputId": "9e587f6a-d0bf-470a-ad4f-113e3a483c13"
      },
      "source": [
        "# string --> loss , mae, mse\n",
        "\n",
        "def plotGraphs(history, string): \n",
        "  plt.plot(history.history[string])\n",
        "  plt.plot(history.history[f'val_{string}'])\n",
        "  plt.xlabel('Num of Epochs')\n",
        "  plt.ylabel(string)\n",
        "  plt.legend([string, f'val_{string}'])\n",
        "  plt.show()\n",
        "\n",
        "plotGraphs(history, 'loss')\n",
        "plotGraphs(history, 'mae')"
      ],
      "execution_count": 23,
      "outputs": [
        {
          "output_type": "display_data",
          "data": {
            "image/png": "[encoded data removed]",
            "text/plain": [
              "<Figure size 576x396 with 1 Axes>"
            ]
          },
          "metadata": {
            "tags": []
          }
        },
        {
          "output_type": "display_data",
          "data": {
            "image/png": "[encoded data removed]",
            "text/plain": [
              "<Figure size 576x396 with 1 Axes>"
            ]
          },
          "metadata": {
            "tags": []
          }
        }
      ]
    },
    {
      "cell_type": "code",
      "metadata": {
        "id": "bQhLImNWujLM"
      },
      "source": [
        "testPreds = model.predict(testFeatures).flatten() #array of all prediction values"
      ],
      "execution_count": 24,
      "outputs": []
    },
    {
      "cell_type": "code",
      "metadata": {
        "colab": {
          "base_uri": "https://localhost:8080/",
          "height": 361
        },
        "id": "VnIgwKHdunZB",
        "outputId": "3e70864a-03a7-4abf-e32e-43ff90ba6511"
      },
      "source": [
        "# prediciton plot --> how well is your model predicting across the actual labels\n",
        "\n",
        "def predPlot(labels, predictions):\n",
        "  plt.scatter(labels, predictions)\n",
        "  plt.ylabel('Predictions')\n",
        "  plt.xlabel('True Value or Labels')\n",
        "  plt.axis('equal')\n",
        "  plt.axis('square')\n",
        "  plt.xlim([0, plt.xlim()[1]])\n",
        "  plt.ylim([0, plt.ylim()[1]])\n",
        "  plt.plot([-100, 100], [-100,100])\n",
        "  plt.show()\n",
        "\n",
        "predPlot(testLabels, testPreds)"
      ],
      "execution_count": 25,
      "outputs": [
        {
          "output_type": "display_data",
          "data": {
            "image/png": "[encoded data removed]",
            "text/plain": [
              "<Figure size 576x396 with 1 Axes>"
            ]
          },
          "metadata": {
            "tags": []
          }
        }
      ]
    },
    {
      "cell_type": "code",
      "metadata": {
        "colab": {
          "base_uri": "https://localhost:8080/",
          "height": 361
        },
        "id": "OKJullvLuvgE",
        "outputId": "3171a8fe-71f4-4787-cfde-4a6c4e3675ac"
      },
      "source": [
        "#error plot --> gaussian distribution \n",
        "\n",
        "def errorPlot(preds, labels, counts):\n",
        "  errors = preds - labels\n",
        "  plt.hist(errors, counts)\n",
        "  plt.xlabel('Error')\n",
        "  plt.ylabel('Counts')\n",
        "  plt.show()\n",
        "\n",
        "errorPlot(testPreds, testLabels, numEpochs)"
      ],
      "execution_count": 26,
      "outputs": [
        {
          "output_type": "display_data",
          "data": {
            "image/png": "[encoded data removed]",
            "text/plain": [
              "<Figure size 576x396 with 1 Axes>"
            ]
          },
          "metadata": {
            "tags": []
          }
        }
      ]
    }
  ]
}