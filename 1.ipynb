{
  "nbformat": 4,
  "nbformat_minor": 0,
  "metadata": {
    "colab": {
      "name": "Untitled1.ipynb",
      "provenance": [],
      "mount_file_id": "1RZk7mpbQwSONogMXk-p_z4KeAZY_B0VD",
      "authorship_tag": "ABX9TyNscipy28sUXAKIfWSMoTiA",
      "include_colab_link": true
    },
    "kernelspec": {
      "name": "python3",
      "display_name": "Python 3"
    },
    "language_info": {
      "name": "python"
    }
  },
  "cells": [
    {
      "cell_type": "markdown",
      "metadata": {
        "id": "view-in-github",
        "colab_type": "text"
      },
      "source": [
        "<a href=\"https://colab.research.google.com/github/bhawnajoshi1304/ML/blob/main/1.ipynb\" target=\"_parent\"><img src=\"https://colab.research.google.com/assets/colab-badge.svg\" alt=\"Open In Colab\"/></a>"
      ]
    },
    {
      "cell_type": "markdown",
      "metadata": {
        "id": "Z_99S9_rcefR"
      },
      "source": [
        "**Data Created**:22 May 2021\n",
        "**Author**: Bhawna"
      ]
    },
    {
      "cell_type": "markdown",
      "metadata": {
        "id": "CEDC7i-nc0HY"
      },
      "source": [
        "# Problem Statement\n",
        "Train your model to learn the table of 10\n",
        "```\n",
        "y=10*x\n",
        "```\n"
      ]
    },
    {
      "cell_type": "code",
      "metadata": {
        "id": "ZFP6dzQ2W0QT",
        "colab": {
          "base_uri": "https://localhost:8080/"
        },
        "outputId": "c721d305-a384-47de-8f3a-2a03bf238638"
      },
      "source": [
        "print(\"Hello World\")"
      ],
      "execution_count": 2,
      "outputs": [
        {
          "output_type": "stream",
          "text": [
            "Hello World\n"
          ],
          "name": "stdout"
        }
      ]
    },
    {
      "cell_type": "code",
      "metadata": {
        "id": "aHMtcT19cboD"
      },
      "source": [
        ""
      ],
      "execution_count": null,
      "outputs": []
    }
  ]
}